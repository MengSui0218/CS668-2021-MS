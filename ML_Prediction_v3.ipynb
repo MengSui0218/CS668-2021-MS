{
  "nbformat": 4,
  "nbformat_minor": 0,
  "metadata": {
    "kernelspec": {
      "display_name": "Python 3",
      "language": "python",
      "name": "python3"
    },
    "language_info": {
      "codemirror_mode": {
        "name": "ipython",
        "version": 3
      },
      "file_extension": ".py",
      "mimetype": "text/x-python",
      "name": "python",
      "nbconvert_exporter": "python",
      "pygments_lexer": "ipython3",
      "version": "3.8.3-final"
    },
    "colab": {
      "name": "ML_Prediction.ipynb",
      "provenance": [],
      "collapsed_sections": []
    }
  },
  "cells": [
    {
      "cell_type": "code",
      "metadata": {
        "id": "sSU79Rsc_deA"
      },
      "source": [
        "import pandas as pd\n",
        "import os\n",
        "import numpy as np\n",
        "import sklearn.metrics"
      ],
      "execution_count": 1,
      "outputs": []
    },
    {
      "cell_type": "code",
      "metadata": {
        "colab": {
          "base_uri": "https://localhost:8080/",
          "height": 309
        },
        "id": "eoNc-pDMAPtO",
        "outputId": "169dd2bc-3da2-4670-f043-21094c89278b"
      },
      "source": [
        "url = 'https://raw.githubusercontent.com/MengSui0218/CS668-2021-MS/main/clean_data.csv'\n",
        "df = pd.read_csv(url)\n",
        "df = df.drop(['Unnamed: 0'], axis =1 )\n",
        "df.head()"
      ],
      "execution_count": 2,
      "outputs": [
        {
          "output_type": "execute_result",
          "data": {
            "text/plain": [
              "          hotel  is_canceled  lead_time  arrival_date_year arrival_date_month  \\\n",
              "0  Resort Hotel            0         13               2015               July   \n",
              "1  Resort Hotel            0         14               2015               July   \n",
              "2  Resort Hotel            0         14               2015               July   \n",
              "3  Resort Hotel            0          9               2015               July   \n",
              "4  Resort Hotel            1         85               2015               July   \n",
              "\n",
              "   arrival_date_week_number  arrival_date_day_of_month  \\\n",
              "0                        27                          1   \n",
              "1                        27                          1   \n",
              "2                        27                          1   \n",
              "3                        27                          1   \n",
              "4                        27                          1   \n",
              "\n",
              "   stays_in_weekend_nights  stays_in_week_nights  adults  ...  \\\n",
              "0                        0                     1       1  ...   \n",
              "1                        0                     2       2  ...   \n",
              "2                        0                     2       2  ...   \n",
              "3                        0                     2       2  ...   \n",
              "4                        0                     3       2  ...   \n",
              "\n",
              "   booking_changes  deposit_type  agent days_in_waiting_list customer_type  \\\n",
              "0                0    No Deposit  304.0                    0     Transient   \n",
              "1                0    No Deposit  240.0                    0     Transient   \n",
              "2                0    No Deposit  240.0                    0     Transient   \n",
              "3                0    No Deposit  303.0                    0     Transient   \n",
              "4                0    No Deposit  240.0                    0     Transient   \n",
              "\n",
              "     adr  required_car_parking_spaces  total_of_special_requests  \\\n",
              "0   75.0                            0                          0   \n",
              "1   98.0                            0                          1   \n",
              "2   98.0                            0                          1   \n",
              "3  103.0                            0                          1   \n",
              "4   82.0                            0                          1   \n",
              "\n",
              "   reservation_status reservation_status_date  \n",
              "0           Check-Out              2015-07-02  \n",
              "1           Check-Out              2015-07-03  \n",
              "2           Check-Out              2015-07-03  \n",
              "3           Check-Out              2015-07-03  \n",
              "4            Canceled              2015-05-06  \n",
              "\n",
              "[5 rows x 31 columns]"
            ],
            "text/html": "<div>\n<style scoped>\n    .dataframe tbody tr th:only-of-type {\n        vertical-align: middle;\n    }\n\n    .dataframe tbody tr th {\n        vertical-align: top;\n    }\n\n    .dataframe thead th {\n        text-align: right;\n    }\n</style>\n<table border=\"1\" class=\"dataframe\">\n  <thead>\n    <tr style=\"text-align: right;\">\n      <th></th>\n      <th>hotel</th>\n      <th>is_canceled</th>\n      <th>lead_time</th>\n      <th>arrival_date_year</th>\n      <th>arrival_date_month</th>\n      <th>arrival_date_week_number</th>\n      <th>arrival_date_day_of_month</th>\n      <th>stays_in_weekend_nights</th>\n      <th>stays_in_week_nights</th>\n      <th>adults</th>\n      <th>...</th>\n      <th>booking_changes</th>\n      <th>deposit_type</th>\n      <th>agent</th>\n      <th>days_in_waiting_list</th>\n      <th>customer_type</th>\n      <th>adr</th>\n      <th>required_car_parking_spaces</th>\n      <th>total_of_special_requests</th>\n      <th>reservation_status</th>\n      <th>reservation_status_date</th>\n    </tr>\n  </thead>\n  <tbody>\n    <tr>\n      <th>0</th>\n      <td>Resort Hotel</td>\n      <td>0</td>\n      <td>13</td>\n      <td>2015</td>\n      <td>July</td>\n      <td>27</td>\n      <td>1</td>\n      <td>0</td>\n      <td>1</td>\n      <td>1</td>\n      <td>...</td>\n      <td>0</td>\n      <td>No Deposit</td>\n      <td>304.0</td>\n      <td>0</td>\n      <td>Transient</td>\n      <td>75.0</td>\n      <td>0</td>\n      <td>0</td>\n      <td>Check-Out</td>\n      <td>2015-07-02</td>\n    </tr>\n    <tr>\n      <th>1</th>\n      <td>Resort Hotel</td>\n      <td>0</td>\n      <td>14</td>\n      <td>2015</td>\n      <td>July</td>\n      <td>27</td>\n      <td>1</td>\n      <td>0</td>\n      <td>2</td>\n      <td>2</td>\n      <td>...</td>\n      <td>0</td>\n      <td>No Deposit</td>\n      <td>240.0</td>\n      <td>0</td>\n      <td>Transient</td>\n      <td>98.0</td>\n      <td>0</td>\n      <td>1</td>\n      <td>Check-Out</td>\n      <td>2015-07-03</td>\n    </tr>\n    <tr>\n      <th>2</th>\n      <td>Resort Hotel</td>\n      <td>0</td>\n      <td>14</td>\n      <td>2015</td>\n      <td>July</td>\n      <td>27</td>\n      <td>1</td>\n      <td>0</td>\n      <td>2</td>\n      <td>2</td>\n      <td>...</td>\n      <td>0</td>\n      <td>No Deposit</td>\n      <td>240.0</td>\n      <td>0</td>\n      <td>Transient</td>\n      <td>98.0</td>\n      <td>0</td>\n      <td>1</td>\n      <td>Check-Out</td>\n      <td>2015-07-03</td>\n    </tr>\n    <tr>\n      <th>3</th>\n      <td>Resort Hotel</td>\n      <td>0</td>\n      <td>9</td>\n      <td>2015</td>\n      <td>July</td>\n      <td>27</td>\n      <td>1</td>\n      <td>0</td>\n      <td>2</td>\n      <td>2</td>\n      <td>...</td>\n      <td>0</td>\n      <td>No Deposit</td>\n      <td>303.0</td>\n      <td>0</td>\n      <td>Transient</td>\n      <td>103.0</td>\n      <td>0</td>\n      <td>1</td>\n      <td>Check-Out</td>\n      <td>2015-07-03</td>\n    </tr>\n    <tr>\n      <th>4</th>\n      <td>Resort Hotel</td>\n      <td>1</td>\n      <td>85</td>\n      <td>2015</td>\n      <td>July</td>\n      <td>27</td>\n      <td>1</td>\n      <td>0</td>\n      <td>3</td>\n      <td>2</td>\n      <td>...</td>\n      <td>0</td>\n      <td>No Deposit</td>\n      <td>240.0</td>\n      <td>0</td>\n      <td>Transient</td>\n      <td>82.0</td>\n      <td>0</td>\n      <td>1</td>\n      <td>Canceled</td>\n      <td>2015-05-06</td>\n    </tr>\n  </tbody>\n</table>\n<p>5 rows × 31 columns</p>\n</div>"
          },
          "metadata": {},
          "execution_count": 2
        }
      ]
    },
    {
      "cell_type": "code",
      "metadata": {
        "colab": {
          "base_uri": "https://localhost:8080/"
        },
        "id": "Axt_C6nn_deM",
        "outputId": "ebdc0b99-ed3f-42e7-eefc-01acb944f1a2"
      },
      "source": [
        "df.columns"
      ],
      "execution_count": 3,
      "outputs": [
        {
          "output_type": "execute_result",
          "data": {
            "text/plain": [
              "Index(['hotel', 'is_canceled', 'lead_time', 'arrival_date_year',\n",
              "       'arrival_date_month', 'arrival_date_week_number',\n",
              "       'arrival_date_day_of_month', 'stays_in_weekend_nights',\n",
              "       'stays_in_week_nights', 'adults', 'children', 'babies', 'meal',\n",
              "       'country', 'market_segment', 'distribution_channel',\n",
              "       'is_repeated_guest', 'previous_cancellations',\n",
              "       'previous_bookings_not_canceled', 'reserved_room_type',\n",
              "       'assigned_room_type', 'booking_changes', 'deposit_type', 'agent',\n",
              "       'days_in_waiting_list', 'customer_type', 'adr',\n",
              "       'required_car_parking_spaces', 'total_of_special_requests',\n",
              "       'reservation_status', 'reservation_status_date'],\n",
              "      dtype='object')"
            ]
          },
          "metadata": {},
          "execution_count": 3
        }
      ]
    },
    {
      "cell_type": "markdown",
      "metadata": {
        "id": "n0DdqrJk_deM"
      },
      "source": [
        "1. based on EDA, cancellation from years to years keeps the same level, but it dose vary in different month. Thus, in ML process, column arrival_date_year will be dropped. \n",
        "2. column related to after check-in are supposed to be dropped, such as *assigned_room_type*, *reservation_status*, "
      ]
    },
    {
      "cell_type": "markdown",
      "metadata": {
        "id": "MGlmQeaQ_deM"
      },
      "source": [
        "# Prepare training data \n"
      ]
    },
    {
      "cell_type": "code",
      "metadata": {
        "id": "AOHK9JhAA9cZ"
      },
      "source": [
        "df_ml = df.drop(['arrival_date_year','reservation_status','assigned_room_type','assigned_room_type'],axis=1)\n",
        "\n",
        "x, y = df_ml.drop(['is_canceled'], axis= 1), df_ml['is_canceled']\n"
      ],
      "execution_count": 4,
      "outputs": []
    },
    {
      "source": [
        "# Organize training steps \n",
        "In this project, there are a few category atributes that can not be numeriazed by related machine learning algorithms. Thus transdering them to number is necessery for them before applying machine learning algorithms. \n",
        "When trasfering string type to number type, using sequenced number to present a series of category string is common transformantion. But issues can arise when original categories are norminal. Simply using number to reprent norminal data will mistakely assump that categories has order and different impact level on final prediciton. Thus, we used onehot encoder to transform category data. \n",
        "OneHot Encoder adds new coresponding columns to present categories, and use \"0\" and \"1\" to present observations belongs to these categories. "
      ],
      "cell_type": "markdown",
      "metadata": {}
    },
    {
      "cell_type": "code",
      "metadata": {
        "id": "jF5lTyGaDqsA"
      },
      "source": [
        "from sklearn.pipeline import Pipeline \n",
        "from sklearn.preprocessing import OneHotEncoder\n",
        "from sklearn.compose import ColumnTransformer\n",
        "\n",
        "str_transformer = Pipeline(steps= [('onehot',OneHotEncoder(handle_unknown = 'ignore'))])\n",
        "str_col = ['hotel','arrival_date_month','meal','country','market_segment','distribution_channel','deposit_type','customer_type']\n",
        "preprocesser = ColumnTransformer(transformers= [('Str',str_transformer, str_col)])"
      ],
      "execution_count": 5,
      "outputs": []
    },
    {
      "source": [
        "# Try out different algorithms \n",
        "Try out different algorithms at the same time to select out the algorithm that has the highest prediction accuracy even based on defaut parameters. It is efficient to select the best suitable machine learning algorithms.\n",
        "\n",
        "SVM is out of my computation resource"
      ],
      "cell_type": "markdown",
      "metadata": {}
    },
    {
      "cell_type": "code",
      "metadata": {
        "colab": {
          "base_uri": "https://localhost:8080/"
        },
        "id": "advzpX5tFw91",
        "outputId": "6daa8a96-bc1d-4046-baf3-b36865baeb63"
      },
      "source": [
        "from sklearn.tree import DecisionTreeClassifier\n",
        "from sklearn.ensemble import RandomForestClassifier\n",
        "from sklearn.svm import SVC\n",
        "from sklearn.naive_bayes import GaussianNB\n",
        "from sklearn.linear_model import LogisticRegression\n",
        "from sklearn.neighbors import KNeighborsClassifier\n",
        "from sklearn.model_selection import KFold\n",
        "from sklearn.model_selection import cross_val_score\n",
        "\n",
        "kfolds = 10 \n",
        "split = KFold(n_splits = kfolds, shuffle = True, random_state=42)\n",
        "\n",
        "\n",
        "base_model = [('dt',DecisionTreeClassifier(random_state=42)),\n",
        "              ('rf', RandomForestClassifier(max_depth=4, random_state=42)),\n",
        "              #('SVM',SVC(gamma='auto')),\n",
        "              ('lgr', LogisticRegression(random_state=42)),\n",
        "              ('NB',GaussianNB()),\n",
        "              ('KNN',KNeighborsClassifier(n_neighbors=3))]\n",
        "\n",
        "\n",
        "for name, model in base_model:\n",
        "  model_steps = Pipeline(steps = [('preprocesser', preprocesser),\n",
        "                                  ('model', model)])\n",
        "  \n",
        "  cv_result = cross_val_score(model_steps,\n",
        "                              x,y,\n",
        "                              cv = split,\n",
        "                              scoring = 'accuracy')\n",
        "  \n",
        "  min_score = round(min(cv_result),4)\n",
        "  max_score = round(max(cv_result),4)\n",
        "  mean_score = round(np.mean(cv_result),4)\n",
        "  std = round(np.std(cv_result),4)\n",
        "  \n",
        "  print(f'{name} cross validation score: {mean_score}+/-{std}, min: {min_score}, max: {max_score}')"
      ],
      "execution_count": 7,
      "outputs": [
        {
          "output_type": "stream",
          "name": "stdout",
          "text": [
            "dt cross validation score: 0.7682+/-0.0036, min: 0.7642, max: 0.777\n",
            "rf cross validation score: 0.7309+/-0.0014, min: 0.7275, max: 0.7328\n",
            "lgr cross validation score: 0.7345+/-0.0032, min: 0.729, max: 0.7397\n",
            "NB cross validation score: nan+/-nan, min: nan, max: nan\n",
            "KNN cross validation score: 0.6647+/-0.004, min: 0.6569, max: 0.6698\n"
          ]
        }
      ]
    },
    {
      "source": [
        "Thus, Decision Tree and Linear Regression have the top 2 accuracy rate. For next step, we fine-tuned the model by adjusting cerntain paramters to get higher prediction rate. "
      ],
      "cell_type": "markdown",
      "metadata": {}
    },
    {
      "source": [
        "# Fine Tune the model \n",
        "1. 64% data is used to training model \n",
        "2. 33% data is used to test"
      ],
      "cell_type": "markdown",
      "metadata": {}
    },
    {
      "cell_type": "code",
      "execution_count": 24,
      "metadata": {},
      "outputs": [
        {
          "output_type": "stream",
          "name": "stdout",
          "text": [
            "Best parameters for dt:\n",
            "{'model__criterion': 'entropy', 'model__max_depth': 9, 'model__max_features': 'auto'} \n",
            "\n",
            "Grid scores on development set: \n",
            "\n",
            "the higest accuracy rate cane be reached at 0.726667648358121 \n",
            "\n",
            "Best parameters for lgr:\n",
            "{'model__penalty': 'l2'} \n",
            "\n",
            "Grid scores on development set: \n",
            "\n",
            "the higest accuracy rate cane be reached at 0.7353114416139008 \n",
            "\n"
          ]
        }
      ],
      "source": [
        "from sklearn.model_selection import train_test_split\n",
        "from sklearn.model_selection import GridSearchCV\n",
        "import numpy as np\n",
        "\n",
        "x_train, x_test, y_train, y_test = train_test_split(x, y, test_size=0.34, random_state=42)\n",
        "\n",
        "\n",
        "tune_model = [('dt',DecisionTreeClassifier(random_state=42), \n",
        "                {'model__criterion': (\"gini\",\"entropy\"), 'model__max_depth': range(1,10), 'model__max_features' : (\"auto\",\"sqrt\", \"log2\")}),\n",
        "              ('lgr', LogisticRegression(random_state=42),\n",
        "                {'model__penalty': (\"l1\",\"l2\",\"elasticnet\")}),\n",
        "              ]\n",
        "\n",
        "\n",
        "for name, model, parameter in tune_model:\n",
        "    model_steps = Pipeline(steps = [('preprocesser', preprocesser),\n",
        "                                  ('model', model)])\n",
        "    clf = GridSearchCV(\n",
        "            estimator = model_steps, \n",
        "            param_grid = parameter, \n",
        "            cv = 10,\n",
        "            scoring='accuracy'\n",
        "        )\n",
        "\n",
        "    clf.fit(x_train, y_train)\n",
        "\n",
        "    print(f\"Best parameters for {name}:\")\n",
        "    print(f'{clf.best_params_} \\n')\n",
        "    print(f'Grid scores on development set: \\n')\n",
        "    #means = np.mean(clf.cv_results_['mean_test_score'])\n",
        "    #stds = np.std(clf.cv_results_['std_test_score'])\n",
        "    print(f'the higest accuracy rate cane be reached at {clf.best_score_} \\n' )"
      ]
    },
    {
      "source": [
        "# check out importance "
      ],
      "cell_type": "markdown",
      "metadata": {}
    },
    {
      "cell_type": "code",
      "execution_count": null,
      "metadata": {},
      "outputs": [],
      "source": []
    }
  ]
}