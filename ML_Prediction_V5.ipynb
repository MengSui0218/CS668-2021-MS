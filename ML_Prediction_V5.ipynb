{
  "nbformat": 4,
  "nbformat_minor": 0,
  "metadata": {
    "kernelspec": {
      "display_name": "Python 3",
      "language": "python",
      "name": "python3"
    },
    "language_info": {
      "codemirror_mode": {
        "name": "ipython",
        "version": 3
      },
      "file_extension": ".py",
      "mimetype": "text/x-python",
      "name": "python",
      "nbconvert_exporter": "python",
      "pygments_lexer": "ipython3",
      "version": "3.8.3-final"
    },
    "colab": {
      "name": "ML_Prediction.ipynb",
      "provenance": [],
      "collapsed_sections": []
    }
  },
  "cells": [
    {
      "source": [
        "# 0. Import Related Pakage "
      ],
      "cell_type": "markdown",
      "metadata": {}
    },
    {
      "cell_type": "code",
      "metadata": {
        "id": "sSU79Rsc_deA"
      },
      "source": [
        "# basic\n",
        "import pandas as pd\n",
        "import os\n",
        "import numpy as np\n",
        "import sklearn.metrics\n",
        "import matplotlib.pyplot as plt\n",
        "\n",
        "# data transformation onehot encode\n",
        "from sklearn.pipeline import Pipeline \n",
        "from sklearn.preprocessing import OneHotEncoder\n",
        "from sklearn.compose import ColumnTransformer\n",
        "\n",
        "# machine learning training\n",
        "from sklearn.tree import DecisionTreeClassifier\n",
        "from sklearn.ensemble import RandomForestClassifier\n",
        "from sklearn.svm import SVC\n",
        "from sklearn.naive_bayes import GaussianNB\n",
        "from sklearn.linear_model import LogisticRegression\n",
        "from sklearn.neighbors import KNeighborsClassifier\n",
        "from sklearn.model_selection import KFold\n",
        "from sklearn.model_selection import cross_val_score"
      ],
      "execution_count": 1,
      "outputs": []
    },
    {
      "source": [
        "#  1. Data\n",
        "## 1.1 Import Clean Data"
      ],
      "cell_type": "markdown",
      "metadata": {}
    },
    {
      "cell_type": "code",
      "metadata": {
        "colab": {
          "base_uri": "https://localhost:8080/",
          "height": 309
        },
        "id": "eoNc-pDMAPtO",
        "outputId": "169dd2bc-3da2-4670-f043-21094c89278b"
      },
      "source": [
        "url = 'https://raw.githubusercontent.com/MengSui0218/CS668-2021-MS/main/Data/clean_data.csv'\n",
        "df = pd.read_csv(url)\n",
        "df = df.drop(['Unnamed: 0'], axis =1 )\n",
        "df.head()"
      ],
      "execution_count": 2,
      "outputs": [
        {
          "output_type": "execute_result",
          "data": {
            "text/plain": [
              "          hotel  is_canceled  lead_time  arrival_date_year arrival_date_month  \\\n",
              "0  Resort Hotel            0         13               2015               July   \n",
              "1  Resort Hotel            0         14               2015               July   \n",
              "2  Resort Hotel            0         14               2015               July   \n",
              "3  Resort Hotel            0          9               2015               July   \n",
              "4  Resort Hotel            1         85               2015               July   \n",
              "\n",
              "   arrival_date_week_number  arrival_date_day_of_month  \\\n",
              "0                        27                          1   \n",
              "1                        27                          1   \n",
              "2                        27                          1   \n",
              "3                        27                          1   \n",
              "4                        27                          1   \n",
              "\n",
              "   stays_in_weekend_nights  stays_in_week_nights  adults  ...  \\\n",
              "0                        0                     1       1  ...   \n",
              "1                        0                     2       2  ...   \n",
              "2                        0                     2       2  ...   \n",
              "3                        0                     2       2  ...   \n",
              "4                        0                     3       2  ...   \n",
              "\n",
              "   booking_changes  deposit_type  agent days_in_waiting_list customer_type  \\\n",
              "0                0    No Deposit  304.0                    0     Transient   \n",
              "1                0    No Deposit  240.0                    0     Transient   \n",
              "2                0    No Deposit  240.0                    0     Transient   \n",
              "3                0    No Deposit  303.0                    0     Transient   \n",
              "4                0    No Deposit  240.0                    0     Transient   \n",
              "\n",
              "     adr  required_car_parking_spaces  total_of_special_requests  \\\n",
              "0   75.0                            0                          0   \n",
              "1   98.0                            0                          1   \n",
              "2   98.0                            0                          1   \n",
              "3  103.0                            0                          1   \n",
              "4   82.0                            0                          1   \n",
              "\n",
              "   reservation_status reservation_status_date  \n",
              "0           Check-Out              2015-07-02  \n",
              "1           Check-Out              2015-07-03  \n",
              "2           Check-Out              2015-07-03  \n",
              "3           Check-Out              2015-07-03  \n",
              "4            Canceled              2015-05-06  \n",
              "\n",
              "[5 rows x 31 columns]"
            ],
            "text/html": "<div>\n<style scoped>\n    .dataframe tbody tr th:only-of-type {\n        vertical-align: middle;\n    }\n\n    .dataframe tbody tr th {\n        vertical-align: top;\n    }\n\n    .dataframe thead th {\n        text-align: right;\n    }\n</style>\n<table border=\"1\" class=\"dataframe\">\n  <thead>\n    <tr style=\"text-align: right;\">\n      <th></th>\n      <th>hotel</th>\n      <th>is_canceled</th>\n      <th>lead_time</th>\n      <th>arrival_date_year</th>\n      <th>arrival_date_month</th>\n      <th>arrival_date_week_number</th>\n      <th>arrival_date_day_of_month</th>\n      <th>stays_in_weekend_nights</th>\n      <th>stays_in_week_nights</th>\n      <th>adults</th>\n      <th>...</th>\n      <th>booking_changes</th>\n      <th>deposit_type</th>\n      <th>agent</th>\n      <th>days_in_waiting_list</th>\n      <th>customer_type</th>\n      <th>adr</th>\n      <th>required_car_parking_spaces</th>\n      <th>total_of_special_requests</th>\n      <th>reservation_status</th>\n      <th>reservation_status_date</th>\n    </tr>\n  </thead>\n  <tbody>\n    <tr>\n      <th>0</th>\n      <td>Resort Hotel</td>\n      <td>0</td>\n      <td>13</td>\n      <td>2015</td>\n      <td>July</td>\n      <td>27</td>\n      <td>1</td>\n      <td>0</td>\n      <td>1</td>\n      <td>1</td>\n      <td>...</td>\n      <td>0</td>\n      <td>No Deposit</td>\n      <td>304.0</td>\n      <td>0</td>\n      <td>Transient</td>\n      <td>75.0</td>\n      <td>0</td>\n      <td>0</td>\n      <td>Check-Out</td>\n      <td>2015-07-02</td>\n    </tr>\n    <tr>\n      <th>1</th>\n      <td>Resort Hotel</td>\n      <td>0</td>\n      <td>14</td>\n      <td>2015</td>\n      <td>July</td>\n      <td>27</td>\n      <td>1</td>\n      <td>0</td>\n      <td>2</td>\n      <td>2</td>\n      <td>...</td>\n      <td>0</td>\n      <td>No Deposit</td>\n      <td>240.0</td>\n      <td>0</td>\n      <td>Transient</td>\n      <td>98.0</td>\n      <td>0</td>\n      <td>1</td>\n      <td>Check-Out</td>\n      <td>2015-07-03</td>\n    </tr>\n    <tr>\n      <th>2</th>\n      <td>Resort Hotel</td>\n      <td>0</td>\n      <td>14</td>\n      <td>2015</td>\n      <td>July</td>\n      <td>27</td>\n      <td>1</td>\n      <td>0</td>\n      <td>2</td>\n      <td>2</td>\n      <td>...</td>\n      <td>0</td>\n      <td>No Deposit</td>\n      <td>240.0</td>\n      <td>0</td>\n      <td>Transient</td>\n      <td>98.0</td>\n      <td>0</td>\n      <td>1</td>\n      <td>Check-Out</td>\n      <td>2015-07-03</td>\n    </tr>\n    <tr>\n      <th>3</th>\n      <td>Resort Hotel</td>\n      <td>0</td>\n      <td>9</td>\n      <td>2015</td>\n      <td>July</td>\n      <td>27</td>\n      <td>1</td>\n      <td>0</td>\n      <td>2</td>\n      <td>2</td>\n      <td>...</td>\n      <td>0</td>\n      <td>No Deposit</td>\n      <td>303.0</td>\n      <td>0</td>\n      <td>Transient</td>\n      <td>103.0</td>\n      <td>0</td>\n      <td>1</td>\n      <td>Check-Out</td>\n      <td>2015-07-03</td>\n    </tr>\n    <tr>\n      <th>4</th>\n      <td>Resort Hotel</td>\n      <td>1</td>\n      <td>85</td>\n      <td>2015</td>\n      <td>July</td>\n      <td>27</td>\n      <td>1</td>\n      <td>0</td>\n      <td>3</td>\n      <td>2</td>\n      <td>...</td>\n      <td>0</td>\n      <td>No Deposit</td>\n      <td>240.0</td>\n      <td>0</td>\n      <td>Transient</td>\n      <td>82.0</td>\n      <td>0</td>\n      <td>1</td>\n      <td>Canceled</td>\n      <td>2015-05-06</td>\n    </tr>\n  </tbody>\n</table>\n<p>5 rows × 31 columns</p>\n</div>"
          },
          "metadata": {},
          "execution_count": 2
        }
      ]
    },
    {
      "source": [
        "## 1.2 Drop Null Records and Columns "
      ],
      "cell_type": "markdown",
      "metadata": {}
    },
    {
      "cell_type": "code",
      "metadata": {
        "colab": {
          "base_uri": "https://localhost:8080/"
        },
        "id": "Axt_C6nn_deM",
        "outputId": "ebdc0b99-ed3f-42e7-eefc-01acb944f1a2"
      },
      "source": [
        "df.columns"
      ],
      "execution_count": 3,
      "outputs": [
        {
          "output_type": "execute_result",
          "data": {
            "text/plain": [
              "Index(['hotel', 'is_canceled', 'lead_time', 'arrival_date_year',\n",
              "       'arrival_date_month', 'arrival_date_week_number',\n",
              "       'arrival_date_day_of_month', 'stays_in_weekend_nights',\n",
              "       'stays_in_week_nights', 'adults', 'children', 'babies', 'meal',\n",
              "       'country', 'market_segment', 'distribution_channel',\n",
              "       'is_repeated_guest', 'previous_cancellations',\n",
              "       'previous_bookings_not_canceled', 'reserved_room_type',\n",
              "       'assigned_room_type', 'booking_changes', 'deposit_type', 'agent',\n",
              "       'days_in_waiting_list', 'customer_type', 'adr',\n",
              "       'required_car_parking_spaces', 'total_of_special_requests',\n",
              "       'reservation_status', 'reservation_status_date'],\n",
              "      dtype='object')"
            ]
          },
          "metadata": {},
          "execution_count": 3
        }
      ]
    },
    {
      "cell_type": "markdown",
      "metadata": {
        "id": "n0DdqrJk_deM"
      },
      "source": [
        "1. based on EDA, cancellation from years to years keeps the same level, but it dose vary in different month. Thus, in ML process, column arrival_date_year will be dropped. \n",
        "2. column related to after check-in are supposed to be dropped, such as *assigned_room_type*, *reservation_status*, "
      ]
    },
    {
      "cell_type": "code",
      "metadata": {
        "id": "AOHK9JhAA9cZ"
      },
      "source": [
        "# drop columns that post related \n",
        "df_ml = df.drop(['arrival_date_year','reservation_status','reservation_status_date','assigned_room_type'],axis=1)\n",
        "\n",
        "# slice data to independent attributes and predicted columns\n",
        "x, y = df_ml.drop(['is_canceled'], axis= 1), df_ml['is_canceled']\n"
      ],
      "execution_count": 4,
      "outputs": []
    },
    {
      "cell_type": "code",
      "execution_count": 5,
      "metadata": {},
      "outputs": [
        {
          "output_type": "execute_result",
          "data": {
            "text/plain": [
              "Index(['hotel', 'lead_time', 'arrival_date_month', 'arrival_date_week_number',\n",
              "       'arrival_date_day_of_month', 'stays_in_weekend_nights',\n",
              "       'stays_in_week_nights', 'adults', 'children', 'babies', 'meal',\n",
              "       'country', 'market_segment', 'distribution_channel',\n",
              "       'is_repeated_guest', 'previous_cancellations',\n",
              "       'previous_bookings_not_canceled', 'reserved_room_type',\n",
              "       'booking_changes', 'deposit_type', 'agent', 'days_in_waiting_list',\n",
              "       'customer_type', 'adr', 'required_car_parking_spaces',\n",
              "       'total_of_special_requests'],\n",
              "      dtype='object')"
            ]
          },
          "metadata": {},
          "execution_count": 5
        }
      ],
      "source": [
        "# check independent attributes \n",
        "x.columns"
      ]
    },
    {
      "source": [
        "# 2. Organize training steps \n",
        "\n",
        "## explaining onehot encoder\n",
        "In this project, there are a few category atributes that can not be numeriazed by related machine learning algorithms. Thus transdering them to number is necessery for them before applying machine learning algorithms. \n",
        "When trasfering string type to number type, using sequenced number to present a series of category string is common transformantion. But issues can arise when original categories are norminal. Simply using number to reprent norminal data will mistakely assump that categories has order and different impact level on final prediciton. Thus, we used onehot encoder to transform category data. \n",
        "OneHot Encoder adds new coresponding columns to present categories, and use \"0\" and \"1\" to present observations belongs to these categories. "
      ],
      "cell_type": "markdown",
      "metadata": {}
    },
    {
      "cell_type": "code",
      "metadata": {
        "id": "jF5lTyGaDqsA"
      },
      "source": [
        "# set up onehot encode category transformation pipeline\n",
        "str_transformer = Pipeline(steps= [('onehot',OneHotEncoder(handle_unknown = 'ignore'))])\n",
        "str_col = ['hotel','arrival_date_month','meal','country','market_segment','distribution_channel','deposit_type','customer_type']\n",
        "preprocesser = ColumnTransformer(transformers= [('Str',str_transformer, str_col)])"
      ],
      "execution_count": 6,
      "outputs": []
    },
    {
      "source": [
        "## 2.1 Try out different algorithms \n",
        "Try out different algorithms at the same time to select out the algorithm that has the highest prediction accuracy even based on defaut parameters. It is efficient to select the best suitable machine learning algorithms."
      ],
      "cell_type": "markdown",
      "metadata": {}
    },
    {
      "cell_type": "code",
      "metadata": {
        "colab": {
          "base_uri": "https://localhost:8080/"
        },
        "id": "advzpX5tFw91",
        "outputId": "6daa8a96-bc1d-4046-baf3-b36865baeb63"
      },
      "source": [
        "# set up shuffting for 10 folded cross validation\n",
        "kfolds = 10 \n",
        "split = KFold(n_splits = kfolds, shuffle = True, random_state=42)\n",
        "\n",
        "# build up model matrix\n",
        "base_model = [('dt',DecisionTreeClassifier(random_state=42)),\n",
        "              ('rf', RandomForestClassifier(random_state=42)),\n",
        "              #('SVM',SVC(gamma='auto')),\n",
        "              ('lgr', LogisticRegression(solver='lbfgs', max_iter=1000,random_state=42)),\n",
        "              #('NB',GaussianNB(priors=2)),\n",
        "              ('KNN',KNeighborsClassifier(n_neighbors=3))]\n",
        "\n",
        "# create list to save all accuracy rate for every model\n",
        "res = []\n",
        "alg_name = []\n",
        "\n",
        "# try out machine learning algorithms with 10 folded cross validation\n",
        "for name, model in base_model:\n",
        "  model_steps = Pipeline(steps = [('preprocesser', preprocesser),\n",
        "                                  ('model', model)])\n",
        "  \n",
        "  cv_result = cross_val_score(model_steps,\n",
        "                              x,y,\n",
        "                              cv = split,\n",
        "                              scoring = 'accuracy')\n",
        "  res.append(cv_result)\n",
        "  alg_name.append(name)\n",
        "\n",
        "  # minimum accuracy \n",
        "  min_score = round(min(cv_result),4)\n",
        "  # maximum accuracy \n",
        "  max_score = round(max(cv_result),4)\n",
        "  # average of accuracy \n",
        "  mean_score = round(np.mean(cv_result),4)\n",
        "  # standard diviation of accuracy \n",
        "  std = round(np.std(cv_result),4)\n",
        "  \n",
        "  print(f'{name} cross validation score: {mean_score}+/-{std}, min: {min_score}, max: {max_score}')"
      ],
      "execution_count": 8,
      "outputs": [
        {
          "output_type": "stream",
          "name": "stdout",
          "text": [
            "dt cross validation score: 0.7682+/-0.0036, min: 0.7642, max: 0.777\n",
            "rf cross validation score: 0.7684+/-0.0038, min: 0.7635, max: 0.7776\n",
            "lgr cross validation score: 0.7345+/-0.0034, min: 0.7279, max: 0.7401\n",
            "KNN cross validation score: 0.6647+/-0.004, min: 0.6569, max: 0.6698\n"
          ]
        }
      ]
    },
    {
      "cell_type": "code",
      "execution_count": 19,
      "metadata": {},
      "outputs": [
        {
          "output_type": "display_data",
          "data": {
            "text/plain": "<Figure size 576x288 with 1 Axes>",
            "image/svg+xml": "<?xml version=\"1.0\" encoding=\"utf-8\" standalone=\"no\"?>\n<!DOCTYPE svg PUBLIC \"-//W3C//DTD SVG 1.1//EN\"\n  \"http://www.w3.org/Graphics/SVG/1.1/DTD/svg11.dtd\">\n<!-- Created with matplotlib (https://matplotlib.org/) -->\n<svg height=\"277.318125pt\" version=\"1.1\" viewBox=\"0 0 490.065625 277.318125\" width=\"490.065625pt\" xmlns=\"http://www.w3.org/2000/svg\" xmlns:xlink=\"http://www.w3.org/1999/xlink\">\n <defs>\n  <style type=\"text/css\">\n*{stroke-linecap:butt;stroke-linejoin:round;}\n  </style>\n </defs>\n <g id=\"figure_1\">\n  <g id=\"patch_1\">\n   <path d=\"M 0 277.318125 \nL 490.065625 277.318125 \nL 490.065625 0 \nL 0 0 \nz\n\" style=\"fill:none;\"/>\n  </g>\n  <g id=\"axes_1\">\n   <g id=\"patch_2\">\n    <path d=\"M 36.465625 253.44 \nL 482.865625 253.44 \nL 482.865625 36 \nL 36.465625 36 \nz\n\" style=\"fill:#ffffff;\"/>\n   </g>\n   <g id=\"matplotlib.axis_1\">\n    <g id=\"xtick_1\">\n     <g id=\"line2d_1\">\n      <defs>\n       <path d=\"M 0 0 \nL 0 3.5 \n\" id=\"m78eb2a31f0\" style=\"stroke:#000000;stroke-width:0.8;\"/>\n      </defs>\n      <g>\n       <use style=\"stroke:#000000;stroke-width:0.8;\" x=\"92.265625\" xlink:href=\"#m78eb2a31f0\" y=\"253.44\"/>\n      </g>\n     </g>\n     <g id=\"text_1\">\n      <!-- dt -->\n      <defs>\n       <path d=\"M 45.40625 46.390625 \nL 45.40625 75.984375 \nL 54.390625 75.984375 \nL 54.390625 0 \nL 45.40625 0 \nL 45.40625 8.203125 \nQ 42.578125 3.328125 38.25 0.953125 \nQ 33.9375 -1.421875 27.875 -1.421875 \nQ 17.96875 -1.421875 11.734375 6.484375 \nQ 5.515625 14.40625 5.515625 27.296875 \nQ 5.515625 40.1875 11.734375 48.09375 \nQ 17.96875 56 27.875 56 \nQ 33.9375 56 38.25 53.625 \nQ 42.578125 51.265625 45.40625 46.390625 \nz\nM 14.796875 27.296875 \nQ 14.796875 17.390625 18.875 11.75 \nQ 22.953125 6.109375 30.078125 6.109375 \nQ 37.203125 6.109375 41.296875 11.75 \nQ 45.40625 17.390625 45.40625 27.296875 \nQ 45.40625 37.203125 41.296875 42.84375 \nQ 37.203125 48.484375 30.078125 48.484375 \nQ 22.953125 48.484375 18.875 42.84375 \nQ 14.796875 37.203125 14.796875 27.296875 \nz\n\" id=\"DejaVuSans-100\"/>\n       <path d=\"M 18.3125 70.21875 \nL 18.3125 54.6875 \nL 36.8125 54.6875 \nL 36.8125 47.703125 \nL 18.3125 47.703125 \nL 18.3125 18.015625 \nQ 18.3125 11.328125 20.140625 9.421875 \nQ 21.96875 7.515625 27.59375 7.515625 \nL 36.8125 7.515625 \nL 36.8125 0 \nL 27.59375 0 \nQ 17.1875 0 13.234375 3.875 \nQ 9.28125 7.765625 9.28125 18.015625 \nL 9.28125 47.703125 \nL 2.6875 47.703125 \nL 2.6875 54.6875 \nL 9.28125 54.6875 \nL 9.28125 70.21875 \nz\n\" id=\"DejaVuSans-116\"/>\n      </defs>\n      <g transform=\"translate(87.13125 268.038437)scale(0.1 -0.1)\">\n       <use xlink:href=\"#DejaVuSans-100\"/>\n       <use x=\"63.476562\" xlink:href=\"#DejaVuSans-116\"/>\n      </g>\n     </g>\n    </g>\n    <g id=\"xtick_2\">\n     <g id=\"line2d_2\">\n      <g>\n       <use style=\"stroke:#000000;stroke-width:0.8;\" x=\"203.865625\" xlink:href=\"#m78eb2a31f0\" y=\"253.44\"/>\n      </g>\n     </g>\n     <g id=\"text_2\">\n      <!-- rf -->\n      <defs>\n       <path d=\"M 41.109375 46.296875 \nQ 39.59375 47.171875 37.8125 47.578125 \nQ 36.03125 48 33.890625 48 \nQ 26.265625 48 22.1875 43.046875 \nQ 18.109375 38.09375 18.109375 28.8125 \nL 18.109375 0 \nL 9.078125 0 \nL 9.078125 54.6875 \nL 18.109375 54.6875 \nL 18.109375 46.1875 \nQ 20.953125 51.171875 25.484375 53.578125 \nQ 30.03125 56 36.53125 56 \nQ 37.453125 56 38.578125 55.875 \nQ 39.703125 55.765625 41.0625 55.515625 \nz\n\" id=\"DejaVuSans-114\"/>\n       <path d=\"M 37.109375 75.984375 \nL 37.109375 68.5 \nL 28.515625 68.5 \nQ 23.6875 68.5 21.796875 66.546875 \nQ 19.921875 64.59375 19.921875 59.515625 \nL 19.921875 54.6875 \nL 34.71875 54.6875 \nL 34.71875 47.703125 \nL 19.921875 47.703125 \nL 19.921875 0 \nL 10.890625 0 \nL 10.890625 47.703125 \nL 2.296875 47.703125 \nL 2.296875 54.6875 \nL 10.890625 54.6875 \nL 10.890625 58.5 \nQ 10.890625 67.625 15.140625 71.796875 \nQ 19.390625 75.984375 28.609375 75.984375 \nz\n\" id=\"DejaVuSans-102\"/>\n      </defs>\n      <g transform=\"translate(200.05 268.038437)scale(0.1 -0.1)\">\n       <use xlink:href=\"#DejaVuSans-114\"/>\n       <use x=\"41.113281\" xlink:href=\"#DejaVuSans-102\"/>\n      </g>\n     </g>\n    </g>\n    <g id=\"xtick_3\">\n     <g id=\"line2d_3\">\n      <g>\n       <use style=\"stroke:#000000;stroke-width:0.8;\" x=\"315.465625\" xlink:href=\"#m78eb2a31f0\" y=\"253.44\"/>\n      </g>\n     </g>\n     <g id=\"text_3\">\n      <!-- lgr -->\n      <defs>\n       <path d=\"M 9.421875 75.984375 \nL 18.40625 75.984375 \nL 18.40625 0 \nL 9.421875 0 \nz\n\" id=\"DejaVuSans-108\"/>\n       <path d=\"M 45.40625 27.984375 \nQ 45.40625 37.75 41.375 43.109375 \nQ 37.359375 48.484375 30.078125 48.484375 \nQ 22.859375 48.484375 18.828125 43.109375 \nQ 14.796875 37.75 14.796875 27.984375 \nQ 14.796875 18.265625 18.828125 12.890625 \nQ 22.859375 7.515625 30.078125 7.515625 \nQ 37.359375 7.515625 41.375 12.890625 \nQ 45.40625 18.265625 45.40625 27.984375 \nz\nM 54.390625 6.78125 \nQ 54.390625 -7.171875 48.1875 -13.984375 \nQ 42 -20.796875 29.203125 -20.796875 \nQ 24.46875 -20.796875 20.265625 -20.09375 \nQ 16.0625 -19.390625 12.109375 -17.921875 \nL 12.109375 -9.1875 \nQ 16.0625 -11.328125 19.921875 -12.34375 \nQ 23.78125 -13.375 27.78125 -13.375 \nQ 36.625 -13.375 41.015625 -8.765625 \nQ 45.40625 -4.15625 45.40625 5.171875 \nL 45.40625 9.625 \nQ 42.625 4.78125 38.28125 2.390625 \nQ 33.9375 0 27.875 0 \nQ 17.828125 0 11.671875 7.65625 \nQ 5.515625 15.328125 5.515625 27.984375 \nQ 5.515625 40.671875 11.671875 48.328125 \nQ 17.828125 56 27.875 56 \nQ 33.9375 56 38.28125 53.609375 \nQ 42.625 51.21875 45.40625 46.390625 \nL 45.40625 54.6875 \nL 54.390625 54.6875 \nz\n\" id=\"DejaVuSans-103\"/>\n      </defs>\n      <g transform=\"translate(308.846875 268.038437)scale(0.1 -0.1)\">\n       <use xlink:href=\"#DejaVuSans-108\"/>\n       <use x=\"27.783203\" xlink:href=\"#DejaVuSans-103\"/>\n       <use x=\"91.259766\" xlink:href=\"#DejaVuSans-114\"/>\n      </g>\n     </g>\n    </g>\n    <g id=\"xtick_4\">\n     <g id=\"line2d_4\">\n      <g>\n       <use style=\"stroke:#000000;stroke-width:0.8;\" x=\"427.065625\" xlink:href=\"#m78eb2a31f0\" y=\"253.44\"/>\n      </g>\n     </g>\n     <g id=\"text_4\">\n      <!-- KNN -->\n      <defs>\n       <path d=\"M 9.8125 72.90625 \nL 19.671875 72.90625 \nL 19.671875 42.09375 \nL 52.390625 72.90625 \nL 65.09375 72.90625 \nL 28.90625 38.921875 \nL 67.671875 0 \nL 54.6875 0 \nL 19.671875 35.109375 \nL 19.671875 0 \nL 9.8125 0 \nz\n\" id=\"DejaVuSans-75\"/>\n       <path d=\"M 9.8125 72.90625 \nL 23.09375 72.90625 \nL 55.421875 11.921875 \nL 55.421875 72.90625 \nL 64.984375 72.90625 \nL 64.984375 0 \nL 51.703125 0 \nL 19.390625 60.984375 \nL 19.390625 0 \nL 9.8125 0 \nz\n\" id=\"DejaVuSans-78\"/>\n      </defs>\n      <g transform=\"translate(416.305469 268.038437)scale(0.1 -0.1)\">\n       <use xlink:href=\"#DejaVuSans-75\"/>\n       <use x=\"65.576172\" xlink:href=\"#DejaVuSans-78\"/>\n       <use x=\"140.380859\" xlink:href=\"#DejaVuSans-78\"/>\n      </g>\n     </g>\n    </g>\n   </g>\n   <g id=\"matplotlib.axis_2\">\n    <g id=\"ytick_1\">\n     <g id=\"line2d_5\">\n      <defs>\n       <path d=\"M 0 0 \nL -3.5 0 \n\" id=\"mbccc46dd8d\" style=\"stroke:#000000;stroke-width:0.8;\"/>\n      </defs>\n      <g>\n       <use style=\"stroke:#000000;stroke-width:0.8;\" x=\"36.465625\" xlink:href=\"#mbccc46dd8d\" y=\"238.505631\"/>\n      </g>\n     </g>\n     <g id=\"text_5\">\n      <!-- 0.66 -->\n      <defs>\n       <path d=\"M 31.78125 66.40625 \nQ 24.171875 66.40625 20.328125 58.90625 \nQ 16.5 51.421875 16.5 36.375 \nQ 16.5 21.390625 20.328125 13.890625 \nQ 24.171875 6.390625 31.78125 6.390625 \nQ 39.453125 6.390625 43.28125 13.890625 \nQ 47.125 21.390625 47.125 36.375 \nQ 47.125 51.421875 43.28125 58.90625 \nQ 39.453125 66.40625 31.78125 66.40625 \nz\nM 31.78125 74.21875 \nQ 44.046875 74.21875 50.515625 64.515625 \nQ 56.984375 54.828125 56.984375 36.375 \nQ 56.984375 17.96875 50.515625 8.265625 \nQ 44.046875 -1.421875 31.78125 -1.421875 \nQ 19.53125 -1.421875 13.0625 8.265625 \nQ 6.59375 17.96875 6.59375 36.375 \nQ 6.59375 54.828125 13.0625 64.515625 \nQ 19.53125 74.21875 31.78125 74.21875 \nz\n\" id=\"DejaVuSans-48\"/>\n       <path d=\"M 10.6875 12.40625 \nL 21 12.40625 \nL 21 0 \nL 10.6875 0 \nz\n\" id=\"DejaVuSans-46\"/>\n       <path d=\"M 33.015625 40.375 \nQ 26.375 40.375 22.484375 35.828125 \nQ 18.609375 31.296875 18.609375 23.390625 \nQ 18.609375 15.53125 22.484375 10.953125 \nQ 26.375 6.390625 33.015625 6.390625 \nQ 39.65625 6.390625 43.53125 10.953125 \nQ 47.40625 15.53125 47.40625 23.390625 \nQ 47.40625 31.296875 43.53125 35.828125 \nQ 39.65625 40.375 33.015625 40.375 \nz\nM 52.59375 71.296875 \nL 52.59375 62.3125 \nQ 48.875 64.0625 45.09375 64.984375 \nQ 41.3125 65.921875 37.59375 65.921875 \nQ 27.828125 65.921875 22.671875 59.328125 \nQ 17.53125 52.734375 16.796875 39.40625 \nQ 19.671875 43.65625 24.015625 45.921875 \nQ 28.375 48.1875 33.59375 48.1875 \nQ 44.578125 48.1875 50.953125 41.515625 \nQ 57.328125 34.859375 57.328125 23.390625 \nQ 57.328125 12.15625 50.6875 5.359375 \nQ 44.046875 -1.421875 33.015625 -1.421875 \nQ 20.359375 -1.421875 13.671875 8.265625 \nQ 6.984375 17.96875 6.984375 36.375 \nQ 6.984375 53.65625 15.1875 63.9375 \nQ 23.390625 74.21875 37.203125 74.21875 \nQ 40.921875 74.21875 44.703125 73.484375 \nQ 48.484375 72.75 52.59375 71.296875 \nz\n\" id=\"DejaVuSans-54\"/>\n      </defs>\n      <g transform=\"translate(7.2 242.30485)scale(0.1 -0.1)\">\n       <use xlink:href=\"#DejaVuSans-48\"/>\n       <use x=\"63.623047\" xlink:href=\"#DejaVuSans-46\"/>\n       <use x=\"95.410156\" xlink:href=\"#DejaVuSans-54\"/>\n       <use x=\"159.033203\" xlink:href=\"#DejaVuSans-54\"/>\n      </g>\n     </g>\n    </g>\n    <g id=\"ytick_2\">\n     <g id=\"line2d_6\">\n      <g>\n       <use style=\"stroke:#000000;stroke-width:0.8;\" x=\"36.465625\" xlink:href=\"#mbccc46dd8d\" y=\"205.760211\"/>\n      </g>\n     </g>\n     <g id=\"text_6\">\n      <!-- 0.68 -->\n      <defs>\n       <path d=\"M 31.78125 34.625 \nQ 24.75 34.625 20.71875 30.859375 \nQ 16.703125 27.09375 16.703125 20.515625 \nQ 16.703125 13.921875 20.71875 10.15625 \nQ 24.75 6.390625 31.78125 6.390625 \nQ 38.8125 6.390625 42.859375 10.171875 \nQ 46.921875 13.96875 46.921875 20.515625 \nQ 46.921875 27.09375 42.890625 30.859375 \nQ 38.875 34.625 31.78125 34.625 \nz\nM 21.921875 38.8125 \nQ 15.578125 40.375 12.03125 44.71875 \nQ 8.5 49.078125 8.5 55.328125 \nQ 8.5 64.0625 14.71875 69.140625 \nQ 20.953125 74.21875 31.78125 74.21875 \nQ 42.671875 74.21875 48.875 69.140625 \nQ 55.078125 64.0625 55.078125 55.328125 \nQ 55.078125 49.078125 51.53125 44.71875 \nQ 48 40.375 41.703125 38.8125 \nQ 48.828125 37.15625 52.796875 32.3125 \nQ 56.78125 27.484375 56.78125 20.515625 \nQ 56.78125 9.90625 50.3125 4.234375 \nQ 43.84375 -1.421875 31.78125 -1.421875 \nQ 19.734375 -1.421875 13.25 4.234375 \nQ 6.78125 9.90625 6.78125 20.515625 \nQ 6.78125 27.484375 10.78125 32.3125 \nQ 14.796875 37.15625 21.921875 38.8125 \nz\nM 18.3125 54.390625 \nQ 18.3125 48.734375 21.84375 45.5625 \nQ 25.390625 42.390625 31.78125 42.390625 \nQ 38.140625 42.390625 41.71875 45.5625 \nQ 45.3125 48.734375 45.3125 54.390625 \nQ 45.3125 60.0625 41.71875 63.234375 \nQ 38.140625 66.40625 31.78125 66.40625 \nQ 25.390625 66.40625 21.84375 63.234375 \nQ 18.3125 60.0625 18.3125 54.390625 \nz\n\" id=\"DejaVuSans-56\"/>\n      </defs>\n      <g transform=\"translate(7.2 209.559429)scale(0.1 -0.1)\">\n       <use xlink:href=\"#DejaVuSans-48\"/>\n       <use x=\"63.623047\" xlink:href=\"#DejaVuSans-46\"/>\n       <use x=\"95.410156\" xlink:href=\"#DejaVuSans-54\"/>\n       <use x=\"159.033203\" xlink:href=\"#DejaVuSans-56\"/>\n      </g>\n     </g>\n    </g>\n    <g id=\"ytick_3\">\n     <g id=\"line2d_7\">\n      <g>\n       <use style=\"stroke:#000000;stroke-width:0.8;\" x=\"36.465625\" xlink:href=\"#mbccc46dd8d\" y=\"173.01479\"/>\n      </g>\n     </g>\n     <g id=\"text_7\">\n      <!-- 0.70 -->\n      <defs>\n       <path d=\"M 8.203125 72.90625 \nL 55.078125 72.90625 \nL 55.078125 68.703125 \nL 28.609375 0 \nL 18.3125 0 \nL 43.21875 64.59375 \nL 8.203125 64.59375 \nz\n\" id=\"DejaVuSans-55\"/>\n      </defs>\n      <g transform=\"translate(7.2 176.814008)scale(0.1 -0.1)\">\n       <use xlink:href=\"#DejaVuSans-48\"/>\n       <use x=\"63.623047\" xlink:href=\"#DejaVuSans-46\"/>\n       <use x=\"95.410156\" xlink:href=\"#DejaVuSans-55\"/>\n       <use x=\"159.033203\" xlink:href=\"#DejaVuSans-48\"/>\n      </g>\n     </g>\n    </g>\n    <g id=\"ytick_4\">\n     <g id=\"line2d_8\">\n      <g>\n       <use style=\"stroke:#000000;stroke-width:0.8;\" x=\"36.465625\" xlink:href=\"#mbccc46dd8d\" y=\"140.269369\"/>\n      </g>\n     </g>\n     <g id=\"text_8\">\n      <!-- 0.72 -->\n      <defs>\n       <path d=\"M 19.1875 8.296875 \nL 53.609375 8.296875 \nL 53.609375 0 \nL 7.328125 0 \nL 7.328125 8.296875 \nQ 12.9375 14.109375 22.625 23.890625 \nQ 32.328125 33.6875 34.8125 36.53125 \nQ 39.546875 41.84375 41.421875 45.53125 \nQ 43.3125 49.21875 43.3125 52.78125 \nQ 43.3125 58.59375 39.234375 62.25 \nQ 35.15625 65.921875 28.609375 65.921875 \nQ 23.96875 65.921875 18.8125 64.3125 \nQ 13.671875 62.703125 7.8125 59.421875 \nL 7.8125 69.390625 \nQ 13.765625 71.78125 18.9375 73 \nQ 24.125 74.21875 28.421875 74.21875 \nQ 39.75 74.21875 46.484375 68.546875 \nQ 53.21875 62.890625 53.21875 53.421875 \nQ 53.21875 48.921875 51.53125 44.890625 \nQ 49.859375 40.875 45.40625 35.40625 \nQ 44.1875 33.984375 37.640625 27.21875 \nQ 31.109375 20.453125 19.1875 8.296875 \nz\n\" id=\"DejaVuSans-50\"/>\n      </defs>\n      <g transform=\"translate(7.2 144.068587)scale(0.1 -0.1)\">\n       <use xlink:href=\"#DejaVuSans-48\"/>\n       <use x=\"63.623047\" xlink:href=\"#DejaVuSans-46\"/>\n       <use x=\"95.410156\" xlink:href=\"#DejaVuSans-55\"/>\n       <use x=\"159.033203\" xlink:href=\"#DejaVuSans-50\"/>\n      </g>\n     </g>\n    </g>\n    <g id=\"ytick_5\">\n     <g id=\"line2d_9\">\n      <g>\n       <use style=\"stroke:#000000;stroke-width:0.8;\" x=\"36.465625\" xlink:href=\"#mbccc46dd8d\" y=\"107.523948\"/>\n      </g>\n     </g>\n     <g id=\"text_9\">\n      <!-- 0.74 -->\n      <defs>\n       <path d=\"M 37.796875 64.3125 \nL 12.890625 25.390625 \nL 37.796875 25.390625 \nz\nM 35.203125 72.90625 \nL 47.609375 72.90625 \nL 47.609375 25.390625 \nL 58.015625 25.390625 \nL 58.015625 17.1875 \nL 47.609375 17.1875 \nL 47.609375 0 \nL 37.796875 0 \nL 37.796875 17.1875 \nL 4.890625 17.1875 \nL 4.890625 26.703125 \nz\n\" id=\"DejaVuSans-52\"/>\n      </defs>\n      <g transform=\"translate(7.2 111.323166)scale(0.1 -0.1)\">\n       <use xlink:href=\"#DejaVuSans-48\"/>\n       <use x=\"63.623047\" xlink:href=\"#DejaVuSans-46\"/>\n       <use x=\"95.410156\" xlink:href=\"#DejaVuSans-55\"/>\n       <use x=\"159.033203\" xlink:href=\"#DejaVuSans-52\"/>\n      </g>\n     </g>\n    </g>\n    <g id=\"ytick_6\">\n     <g id=\"line2d_10\">\n      <g>\n       <use style=\"stroke:#000000;stroke-width:0.8;\" x=\"36.465625\" xlink:href=\"#mbccc46dd8d\" y=\"74.778527\"/>\n      </g>\n     </g>\n     <g id=\"text_10\">\n      <!-- 0.76 -->\n      <g transform=\"translate(7.2 78.577746)scale(0.1 -0.1)\">\n       <use xlink:href=\"#DejaVuSans-48\"/>\n       <use x=\"63.623047\" xlink:href=\"#DejaVuSans-46\"/>\n       <use x=\"95.410156\" xlink:href=\"#DejaVuSans-55\"/>\n       <use x=\"159.033203\" xlink:href=\"#DejaVuSans-54\"/>\n      </g>\n     </g>\n    </g>\n    <g id=\"ytick_7\">\n     <g id=\"line2d_11\">\n      <g>\n       <use style=\"stroke:#000000;stroke-width:0.8;\" x=\"36.465625\" xlink:href=\"#mbccc46dd8d\" y=\"42.033106\"/>\n      </g>\n     </g>\n     <g id=\"text_11\">\n      <!-- 0.78 -->\n      <g transform=\"translate(7.2 45.832325)scale(0.1 -0.1)\">\n       <use xlink:href=\"#DejaVuSans-48\"/>\n       <use x=\"63.623047\" xlink:href=\"#DejaVuSans-46\"/>\n       <use x=\"95.410156\" xlink:href=\"#DejaVuSans-55\"/>\n       <use x=\"159.033203\" xlink:href=\"#DejaVuSans-56\"/>\n      </g>\n     </g>\n    </g>\n   </g>\n   <g id=\"line2d_12\">\n    <path clip-path=\"url(#p974fc05cc2)\" d=\"M 67.155625 64.775722 \nL 117.375625 64.775722 \nL 117.375625 59.138973 \nL 67.155625 59.138973 \nL 67.155625 64.775722 \n\" style=\"fill:none;stroke:#000000;stroke-linecap:square;\"/>\n   </g>\n   <g id=\"line2d_13\">\n    <path clip-path=\"url(#p974fc05cc2)\" d=\"M 92.265625 64.775722 \nL 92.265625 67.878724 \n\" style=\"fill:none;stroke:#000000;stroke-linecap:square;\"/>\n   </g>\n   <g id=\"line2d_14\">\n    <path clip-path=\"url(#p974fc05cc2)\" d=\"M 92.265625 59.138973 \nL 92.265625 57.021535 \n\" style=\"fill:none;stroke:#000000;stroke-linecap:square;\"/>\n   </g>\n   <g id=\"line2d_15\">\n    <path clip-path=\"url(#p974fc05cc2)\" d=\"M 79.710625 67.878724 \nL 104.820625 67.878724 \n\" style=\"fill:none;stroke:#000000;stroke-linecap:square;\"/>\n   </g>\n   <g id=\"line2d_16\">\n    <path clip-path=\"url(#p974fc05cc2)\" d=\"M 79.710625 57.021535 \nL 104.820625 57.021535 \n\" style=\"fill:none;stroke:#000000;stroke-linecap:square;\"/>\n   </g>\n   <g id=\"line2d_17\">\n    <defs>\n     <path d=\"M 0 3 \nC 0.795609 3 1.55874 2.683901 2.12132 2.12132 \nC 2.683901 1.55874 3 0.795609 3 0 \nC 3 -0.795609 2.683901 -1.55874 2.12132 -2.12132 \nC 1.55874 -2.683901 0.795609 -3 0 -3 \nC -0.795609 -3 -1.55874 -2.683901 -2.12132 -2.12132 \nC -2.683901 -1.55874 -3 -0.795609 -3 0 \nC -3 0.795609 -2.683901 1.55874 -2.12132 2.12132 \nC -1.55874 2.683901 -0.795609 3 0 3 \nz\n\" id=\"mcd2ac6e3f6\" style=\"stroke:#000000;\"/>\n    </defs>\n    <g clip-path=\"url(#p974fc05cc2)\">\n     <use style=\"fill-opacity:0;stroke:#000000;\" x=\"92.265625\" xlink:href=\"#mcd2ac6e3f6\" y=\"46.997426\"/>\n    </g>\n   </g>\n   <g id=\"line2d_18\">\n    <path clip-path=\"url(#p974fc05cc2)\" d=\"M 178.755625 64.616594 \nL 228.975625 64.616594 \nL 228.975625 59.475516 \nL 178.755625 59.475516 \nL 178.755625 64.616594 \n\" style=\"fill:none;stroke:#000000;stroke-linecap:square;\"/>\n   </g>\n   <g id=\"line2d_19\">\n    <path clip-path=\"url(#p974fc05cc2)\" d=\"M 203.865625 64.616594 \nL 203.865625 69.11411 \n\" style=\"fill:none;stroke:#000000;stroke-linecap:square;\"/>\n   </g>\n   <g id=\"line2d_20\">\n    <path clip-path=\"url(#p974fc05cc2)\" d=\"M 203.865625 59.475516 \nL 203.865625 56.22597 \n\" style=\"fill:none;stroke:#000000;stroke-linecap:square;\"/>\n   </g>\n   <g id=\"line2d_21\">\n    <path clip-path=\"url(#p974fc05cc2)\" d=\"M 191.310625 69.11411 \nL 216.420625 69.11411 \n\" style=\"fill:none;stroke:#000000;stroke-linecap:square;\"/>\n   </g>\n   <g id=\"line2d_22\">\n    <path clip-path=\"url(#p974fc05cc2)\" d=\"M 191.310625 56.22597 \nL 216.420625 56.22597 \n\" style=\"fill:none;stroke:#000000;stroke-linecap:square;\"/>\n   </g>\n   <g id=\"line2d_23\">\n    <g clip-path=\"url(#p974fc05cc2)\">\n     <use style=\"fill-opacity:0;stroke:#000000;\" x=\"203.865625\" xlink:href=\"#mcd2ac6e3f6\" y=\"45.883636\"/>\n    </g>\n   </g>\n   <g id=\"line2d_24\">\n    <path clip-path=\"url(#p974fc05cc2)\" d=\"M 290.355625 120.040829 \nL 340.575625 120.040829 \nL 340.575625 114.02593 \nL 290.355625 114.02593 \nL 290.355625 120.040829 \n\" style=\"fill:none;stroke:#000000;stroke-linecap:square;\"/>\n   </g>\n   <g id=\"line2d_25\">\n    <path clip-path=\"url(#p974fc05cc2)\" d=\"M 315.465625 120.040829 \nL 315.465625 127.392707 \n\" style=\"fill:none;stroke:#000000;stroke-linecap:square;\"/>\n   </g>\n   <g id=\"line2d_26\">\n    <path clip-path=\"url(#p974fc05cc2)\" d=\"M 315.465625 114.02593 \nL 315.465625 107.30119 \n\" style=\"fill:none;stroke:#000000;stroke-linecap:square;\"/>\n   </g>\n   <g id=\"line2d_27\">\n    <path clip-path=\"url(#p974fc05cc2)\" d=\"M 302.910625 127.392707 \nL 328.020625 127.392707 \n\" style=\"fill:none;stroke:#000000;stroke-linecap:square;\"/>\n   </g>\n   <g id=\"line2d_28\">\n    <path clip-path=\"url(#p974fc05cc2)\" d=\"M 302.910625 107.30119 \nL 328.020625 107.30119 \n\" style=\"fill:none;stroke:#000000;stroke-linecap:square;\"/>\n   </g>\n   <g id=\"line2d_29\"/>\n   <g id=\"line2d_30\">\n    <path clip-path=\"url(#p974fc05cc2)\" d=\"M 401.955625 235.878423 \nL 452.175625 235.878423 \nL 452.175625 225.09769 \nL 401.955625 225.09769 \nL 401.955625 235.878423 \n\" style=\"fill:none;stroke:#000000;stroke-linecap:square;\"/>\n   </g>\n   <g id=\"line2d_31\">\n    <path clip-path=\"url(#p974fc05cc2)\" d=\"M 427.065625 235.878423 \nL 427.065625 243.556364 \n\" style=\"fill:none;stroke:#000000;stroke-linecap:square;\"/>\n   </g>\n   <g id=\"line2d_32\">\n    <path clip-path=\"url(#p974fc05cc2)\" d=\"M 427.065625 225.09769 \nL 427.065625 222.3923 \n\" style=\"fill:none;stroke:#000000;stroke-linecap:square;\"/>\n   </g>\n   <g id=\"line2d_33\">\n    <path clip-path=\"url(#p974fc05cc2)\" d=\"M 414.510625 243.556364 \nL 439.620625 243.556364 \n\" style=\"fill:none;stroke:#000000;stroke-linecap:square;\"/>\n   </g>\n   <g id=\"line2d_34\">\n    <path clip-path=\"url(#p974fc05cc2)\" d=\"M 414.510625 222.3923 \nL 439.620625 222.3923 \n\" style=\"fill:none;stroke:#000000;stroke-linecap:square;\"/>\n   </g>\n   <g id=\"line2d_35\"/>\n   <g id=\"line2d_36\">\n    <path clip-path=\"url(#p974fc05cc2)\" d=\"M 67.155625 62.62749 \nL 117.375625 62.62749 \n\" style=\"fill:none;stroke:#ff7f0e;stroke-linecap:square;\"/>\n   </g>\n   <g id=\"line2d_37\">\n    <path clip-path=\"url(#p974fc05cc2)\" d=\"M 178.755625 61.67272 \nL 228.975625 61.67272 \n\" style=\"fill:none;stroke:#ff7f0e;stroke-linecap:square;\"/>\n   </g>\n   <g id=\"line2d_38\">\n    <path clip-path=\"url(#p974fc05cc2)\" d=\"M 290.355625 115.357458 \nL 340.575625 115.357458 \n\" style=\"fill:none;stroke:#ff7f0e;stroke-linecap:square;\"/>\n   </g>\n   <g id=\"line2d_39\">\n    <path clip-path=\"url(#p974fc05cc2)\" d=\"M 401.955625 230.083501 \nL 452.175625 230.083501 \n\" style=\"fill:none;stroke:#ff7f0e;stroke-linecap:square;\"/>\n   </g>\n   <g id=\"patch_3\">\n    <path d=\"M 36.465625 253.44 \nL 36.465625 36 \n\" style=\"fill:none;stroke:#000000;stroke-linecap:square;stroke-linejoin:miter;stroke-width:0.8;\"/>\n   </g>\n   <g id=\"patch_4\">\n    <path d=\"M 482.865625 253.44 \nL 482.865625 36 \n\" style=\"fill:none;stroke:#000000;stroke-linecap:square;stroke-linejoin:miter;stroke-width:0.8;\"/>\n   </g>\n   <g id=\"patch_5\">\n    <path d=\"M 36.465625 253.44 \nL 482.865625 253.44 \n\" style=\"fill:none;stroke:#000000;stroke-linecap:square;stroke-linejoin:miter;stroke-width:0.8;\"/>\n   </g>\n   <g id=\"patch_6\">\n    <path d=\"M 36.465625 36 \nL 482.865625 36 \n\" style=\"fill:none;stroke:#000000;stroke-linecap:square;stroke-linejoin:miter;stroke-width:0.8;\"/>\n   </g>\n  </g>\n  <g id=\"text_12\">\n   <!-- Default Algorithm Performance -->\n   <defs>\n    <path d=\"M 19.671875 64.796875 \nL 19.671875 8.109375 \nL 31.59375 8.109375 \nQ 46.6875 8.109375 53.6875 14.9375 \nQ 60.6875 21.78125 60.6875 36.53125 \nQ 60.6875 51.171875 53.6875 57.984375 \nQ 46.6875 64.796875 31.59375 64.796875 \nz\nM 9.8125 72.90625 \nL 30.078125 72.90625 \nQ 51.265625 72.90625 61.171875 64.09375 \nQ 71.09375 55.28125 71.09375 36.53125 \nQ 71.09375 17.671875 61.125 8.828125 \nQ 51.171875 0 30.078125 0 \nL 9.8125 0 \nz\n\" id=\"DejaVuSans-68\"/>\n    <path d=\"M 56.203125 29.59375 \nL 56.203125 25.203125 \nL 14.890625 25.203125 \nQ 15.484375 15.921875 20.484375 11.0625 \nQ 25.484375 6.203125 34.421875 6.203125 \nQ 39.59375 6.203125 44.453125 7.46875 \nQ 49.3125 8.734375 54.109375 11.28125 \nL 54.109375 2.78125 \nQ 49.265625 0.734375 44.1875 -0.34375 \nQ 39.109375 -1.421875 33.890625 -1.421875 \nQ 20.796875 -1.421875 13.15625 6.1875 \nQ 5.515625 13.8125 5.515625 26.8125 \nQ 5.515625 40.234375 12.765625 48.109375 \nQ 20.015625 56 32.328125 56 \nQ 43.359375 56 49.78125 48.890625 \nQ 56.203125 41.796875 56.203125 29.59375 \nz\nM 47.21875 32.234375 \nQ 47.125 39.59375 43.09375 43.984375 \nQ 39.0625 48.390625 32.421875 48.390625 \nQ 24.90625 48.390625 20.390625 44.140625 \nQ 15.875 39.890625 15.1875 32.171875 \nz\n\" id=\"DejaVuSans-101\"/>\n    <path d=\"M 34.28125 27.484375 \nQ 23.390625 27.484375 19.1875 25 \nQ 14.984375 22.515625 14.984375 16.5 \nQ 14.984375 11.71875 18.140625 8.90625 \nQ 21.296875 6.109375 26.703125 6.109375 \nQ 34.1875 6.109375 38.703125 11.40625 \nQ 43.21875 16.703125 43.21875 25.484375 \nL 43.21875 27.484375 \nz\nM 52.203125 31.203125 \nL 52.203125 0 \nL 43.21875 0 \nL 43.21875 8.296875 \nQ 40.140625 3.328125 35.546875 0.953125 \nQ 30.953125 -1.421875 24.3125 -1.421875 \nQ 15.921875 -1.421875 10.953125 3.296875 \nQ 6 8.015625 6 15.921875 \nQ 6 25.140625 12.171875 29.828125 \nQ 18.359375 34.515625 30.609375 34.515625 \nL 43.21875 34.515625 \nL 43.21875 35.40625 \nQ 43.21875 41.609375 39.140625 45 \nQ 35.0625 48.390625 27.6875 48.390625 \nQ 23 48.390625 18.546875 47.265625 \nQ 14.109375 46.140625 10.015625 43.890625 \nL 10.015625 52.203125 \nQ 14.9375 54.109375 19.578125 55.046875 \nQ 24.21875 56 28.609375 56 \nQ 40.484375 56 46.34375 49.84375 \nQ 52.203125 43.703125 52.203125 31.203125 \nz\n\" id=\"DejaVuSans-97\"/>\n    <path d=\"M 8.5 21.578125 \nL 8.5 54.6875 \nL 17.484375 54.6875 \nL 17.484375 21.921875 \nQ 17.484375 14.15625 20.5 10.265625 \nQ 23.53125 6.390625 29.59375 6.390625 \nQ 36.859375 6.390625 41.078125 11.03125 \nQ 45.3125 15.671875 45.3125 23.6875 \nL 45.3125 54.6875 \nL 54.296875 54.6875 \nL 54.296875 0 \nL 45.3125 0 \nL 45.3125 8.40625 \nQ 42.046875 3.421875 37.71875 1 \nQ 33.40625 -1.421875 27.6875 -1.421875 \nQ 18.265625 -1.421875 13.375 4.4375 \nQ 8.5 10.296875 8.5 21.578125 \nz\nM 31.109375 56 \nz\n\" id=\"DejaVuSans-117\"/>\n    <path id=\"DejaVuSans-32\"/>\n    <path d=\"M 34.1875 63.1875 \nL 20.796875 26.90625 \nL 47.609375 26.90625 \nz\nM 28.609375 72.90625 \nL 39.796875 72.90625 \nL 67.578125 0 \nL 57.328125 0 \nL 50.6875 18.703125 \nL 17.828125 18.703125 \nL 11.1875 0 \nL 0.78125 0 \nz\n\" id=\"DejaVuSans-65\"/>\n    <path d=\"M 30.609375 48.390625 \nQ 23.390625 48.390625 19.1875 42.75 \nQ 14.984375 37.109375 14.984375 27.296875 \nQ 14.984375 17.484375 19.15625 11.84375 \nQ 23.34375 6.203125 30.609375 6.203125 \nQ 37.796875 6.203125 41.984375 11.859375 \nQ 46.1875 17.53125 46.1875 27.296875 \nQ 46.1875 37.015625 41.984375 42.703125 \nQ 37.796875 48.390625 30.609375 48.390625 \nz\nM 30.609375 56 \nQ 42.328125 56 49.015625 48.375 \nQ 55.71875 40.765625 55.71875 27.296875 \nQ 55.71875 13.875 49.015625 6.21875 \nQ 42.328125 -1.421875 30.609375 -1.421875 \nQ 18.84375 -1.421875 12.171875 6.21875 \nQ 5.515625 13.875 5.515625 27.296875 \nQ 5.515625 40.765625 12.171875 48.375 \nQ 18.84375 56 30.609375 56 \nz\n\" id=\"DejaVuSans-111\"/>\n    <path d=\"M 9.421875 54.6875 \nL 18.40625 54.6875 \nL 18.40625 0 \nL 9.421875 0 \nz\nM 9.421875 75.984375 \nL 18.40625 75.984375 \nL 18.40625 64.59375 \nL 9.421875 64.59375 \nz\n\" id=\"DejaVuSans-105\"/>\n    <path d=\"M 54.890625 33.015625 \nL 54.890625 0 \nL 45.90625 0 \nL 45.90625 32.71875 \nQ 45.90625 40.484375 42.875 44.328125 \nQ 39.84375 48.1875 33.796875 48.1875 \nQ 26.515625 48.1875 22.3125 43.546875 \nQ 18.109375 38.921875 18.109375 30.90625 \nL 18.109375 0 \nL 9.078125 0 \nL 9.078125 75.984375 \nL 18.109375 75.984375 \nL 18.109375 46.1875 \nQ 21.34375 51.125 25.703125 53.5625 \nQ 30.078125 56 35.796875 56 \nQ 45.21875 56 50.046875 50.171875 \nQ 54.890625 44.34375 54.890625 33.015625 \nz\n\" id=\"DejaVuSans-104\"/>\n    <path d=\"M 52 44.1875 \nQ 55.375 50.25 60.0625 53.125 \nQ 64.75 56 71.09375 56 \nQ 79.640625 56 84.28125 50.015625 \nQ 88.921875 44.046875 88.921875 33.015625 \nL 88.921875 0 \nL 79.890625 0 \nL 79.890625 32.71875 \nQ 79.890625 40.578125 77.09375 44.375 \nQ 74.3125 48.1875 68.609375 48.1875 \nQ 61.625 48.1875 57.5625 43.546875 \nQ 53.515625 38.921875 53.515625 30.90625 \nL 53.515625 0 \nL 44.484375 0 \nL 44.484375 32.71875 \nQ 44.484375 40.625 41.703125 44.40625 \nQ 38.921875 48.1875 33.109375 48.1875 \nQ 26.21875 48.1875 22.15625 43.53125 \nQ 18.109375 38.875 18.109375 30.90625 \nL 18.109375 0 \nL 9.078125 0 \nL 9.078125 54.6875 \nL 18.109375 54.6875 \nL 18.109375 46.1875 \nQ 21.1875 51.21875 25.484375 53.609375 \nQ 29.78125 56 35.6875 56 \nQ 41.65625 56 45.828125 52.96875 \nQ 50 49.953125 52 44.1875 \nz\n\" id=\"DejaVuSans-109\"/>\n    <path d=\"M 19.671875 64.796875 \nL 19.671875 37.40625 \nL 32.078125 37.40625 \nQ 38.96875 37.40625 42.71875 40.96875 \nQ 46.484375 44.53125 46.484375 51.125 \nQ 46.484375 57.671875 42.71875 61.234375 \nQ 38.96875 64.796875 32.078125 64.796875 \nz\nM 9.8125 72.90625 \nL 32.078125 72.90625 \nQ 44.34375 72.90625 50.609375 67.359375 \nQ 56.890625 61.8125 56.890625 51.125 \nQ 56.890625 40.328125 50.609375 34.8125 \nQ 44.34375 29.296875 32.078125 29.296875 \nL 19.671875 29.296875 \nL 19.671875 0 \nL 9.8125 0 \nz\n\" id=\"DejaVuSans-80\"/>\n    <path d=\"M 54.890625 33.015625 \nL 54.890625 0 \nL 45.90625 0 \nL 45.90625 32.71875 \nQ 45.90625 40.484375 42.875 44.328125 \nQ 39.84375 48.1875 33.796875 48.1875 \nQ 26.515625 48.1875 22.3125 43.546875 \nQ 18.109375 38.921875 18.109375 30.90625 \nL 18.109375 0 \nL 9.078125 0 \nL 9.078125 54.6875 \nL 18.109375 54.6875 \nL 18.109375 46.1875 \nQ 21.34375 51.125 25.703125 53.5625 \nQ 30.078125 56 35.796875 56 \nQ 45.21875 56 50.046875 50.171875 \nQ 54.890625 44.34375 54.890625 33.015625 \nz\n\" id=\"DejaVuSans-110\"/>\n    <path d=\"M 48.78125 52.59375 \nL 48.78125 44.1875 \nQ 44.96875 46.296875 41.140625 47.34375 \nQ 37.3125 48.390625 33.40625 48.390625 \nQ 24.65625 48.390625 19.8125 42.84375 \nQ 14.984375 37.3125 14.984375 27.296875 \nQ 14.984375 17.28125 19.8125 11.734375 \nQ 24.65625 6.203125 33.40625 6.203125 \nQ 37.3125 6.203125 41.140625 7.25 \nQ 44.96875 8.296875 48.78125 10.40625 \nL 48.78125 2.09375 \nQ 45.015625 0.34375 40.984375 -0.53125 \nQ 36.96875 -1.421875 32.421875 -1.421875 \nQ 20.0625 -1.421875 12.78125 6.34375 \nQ 5.515625 14.109375 5.515625 27.296875 \nQ 5.515625 40.671875 12.859375 48.328125 \nQ 20.21875 56 33.015625 56 \nQ 37.15625 56 41.109375 55.140625 \nQ 45.0625 54.296875 48.78125 52.59375 \nz\n\" id=\"DejaVuSans-99\"/>\n   </defs>\n   <g transform=\"translate(159.326875 16.318125)scale(0.12 -0.12)\">\n    <use xlink:href=\"#DejaVuSans-68\"/>\n    <use x=\"77.001953\" xlink:href=\"#DejaVuSans-101\"/>\n    <use x=\"138.525391\" xlink:href=\"#DejaVuSans-102\"/>\n    <use x=\"173.730469\" xlink:href=\"#DejaVuSans-97\"/>\n    <use x=\"235.009766\" xlink:href=\"#DejaVuSans-117\"/>\n    <use x=\"298.388672\" xlink:href=\"#DejaVuSans-108\"/>\n    <use x=\"326.171875\" xlink:href=\"#DejaVuSans-116\"/>\n    <use x=\"365.380859\" xlink:href=\"#DejaVuSans-32\"/>\n    <use x=\"397.167969\" xlink:href=\"#DejaVuSans-65\"/>\n    <use x=\"465.576172\" xlink:href=\"#DejaVuSans-108\"/>\n    <use x=\"493.359375\" xlink:href=\"#DejaVuSans-103\"/>\n    <use x=\"556.835938\" xlink:href=\"#DejaVuSans-111\"/>\n    <use x=\"618.017578\" xlink:href=\"#DejaVuSans-114\"/>\n    <use x=\"659.130859\" xlink:href=\"#DejaVuSans-105\"/>\n    <use x=\"686.914062\" xlink:href=\"#DejaVuSans-116\"/>\n    <use x=\"726.123047\" xlink:href=\"#DejaVuSans-104\"/>\n    <use x=\"789.501953\" xlink:href=\"#DejaVuSans-109\"/>\n    <use x=\"886.914062\" xlink:href=\"#DejaVuSans-32\"/>\n    <use x=\"918.701172\" xlink:href=\"#DejaVuSans-80\"/>\n    <use x=\"975.378906\" xlink:href=\"#DejaVuSans-101\"/>\n    <use x=\"1036.902344\" xlink:href=\"#DejaVuSans-114\"/>\n    <use x=\"1078.015625\" xlink:href=\"#DejaVuSans-102\"/>\n    <use x=\"1113.220703\" xlink:href=\"#DejaVuSans-111\"/>\n    <use x=\"1174.402344\" xlink:href=\"#DejaVuSans-114\"/>\n    <use x=\"1213.765625\" xlink:href=\"#DejaVuSans-109\"/>\n    <use x=\"1311.177734\" xlink:href=\"#DejaVuSans-97\"/>\n    <use x=\"1372.457031\" xlink:href=\"#DejaVuSans-110\"/>\n    <use x=\"1435.835938\" xlink:href=\"#DejaVuSans-99\"/>\n    <use x=\"1490.816406\" xlink:href=\"#DejaVuSans-101\"/>\n   </g>\n  </g>\n </g>\n <defs>\n  <clipPath id=\"p974fc05cc2\">\n   <rect height=\"217.44\" width=\"446.4\" x=\"36.465625\" y=\"36\"/>\n  </clipPath>\n </defs>\n</svg>\n",
            "image/png": "[encoded data removed]"
          },
          "metadata": {
            "needs_background": "light"
          }
        }
      ],
      "source": [
        "# plot model prediction accuracy \n",
        "fig = plt.figure(figsize = (8,4))\n",
        "fig.suptitle('Default Algorithm Performance')\n",
        "ax = fig.add_subplot(111)\n",
        "plt.boxplot(res)\n",
        "ax.set_xticklabels(alg_name)\n",
        "plt.show()"
      ]
    },
    {
      "source": [
        "Thus, Decision Tree and Linear Regression have the top 2 accuracy rate. For next step, we fine-tuned the model by adjusting cerntain paramters to get higher prediction rate. "
      ],
      "cell_type": "markdown",
      "metadata": {}
    },
    {
      "source": [
        "## 2.2 Fine Tune the model \n",
        "1. 64% data is used to training model \n",
        "2. 33% data is used to test"
      ],
      "cell_type": "markdown",
      "metadata": {}
    },
    {
      "cell_type": "code",
      "execution_count": 10,
      "metadata": {},
      "outputs": [],
      "source": [
        "# import related muduel\n",
        "from sklearn.model_selection import train_test_split\n",
        "from sklearn.model_selection import GridSearchCV\n",
        "import numpy as np\n",
        "import joblib"
      ]
    },
    {
      "cell_type": "code",
      "execution_count": 11,
      "metadata": {},
      "outputs": [],
      "source": [
        "#split training dataset and testing dataset\n",
        "x_train, x_test, y_train, y_test = train_test_split(x, y, test_size=0.34, random_state=42)"
      ]
    },
    {
      "cell_type": "code",
      "execution_count": 14,
      "metadata": {},
      "outputs": [],
      "source": [
        "# set parameter matrix for algorithms \n",
        "tune_model = [('dt',DecisionTreeClassifier(random_state=42), \n",
        "                {'model__criterion': (\"gini\",\"entropy\"), \n",
        "                'model__max_depth': range(1,15),\n",
        "                'model__max_features' : (\"auto\",\"sqrt\", \"log2\"),\n",
        "                'model__splitter' : (\"best\", \"random\"),\n",
        "                }),\n",
        "              ('rf', RandomForestClassifier(random_state=42),\n",
        "                #{'model__n_estimators': range(100,150),\n",
        "                {'model__criterion': (\"gini\", \"entropy\"),\n",
        "                'model__max_features': (\"auto\", \"log2\"),\n",
        "                }),\n",
        "              ]\n",
        "# create list to store training results \n",
        "opt_res = []\n",
        "opt_alg_name = []"
      ]
    },
    {
      "cell_type": "code",
      "execution_count": 15,
      "metadata": {},
      "outputs": [
        {
          "output_type": "stream",
          "name": "stdout",
          "text": [
            "make_scorer(accuracy_score)\n",
            "Best parameters for dt:\n",
            "{'model__criterion': 'entropy', 'model__max_depth': 5, 'model__max_features': 'auto', 'model__splitter': 'random'} \n",
            "\n",
            "Grid scores on development set:\n",
            "the higest accuracy rate cane be reached at 0.7139013349949341 \n",
            "\n",
            "make_scorer(accuracy_score)\n",
            "Best parameters for rf:\n",
            "{'model__criterion': 'gini', 'model__max_features': 'log2'} \n",
            "\n",
            "Grid scores on development set:\n",
            "the higest accuracy rate cane be reached at 0.5572894278575597 \n",
            "\n"
          ]
        }
      ],
      "source": [
        "# set up training pipeline \n",
        "path = f\"/Users/suimeng/Desktop/IS688/CS668_Project/CS668-2021-MS/best_estimator\"\n",
        "\n",
        "for name, model, parameter in tune_model:\n",
        "    # pipeline, transform category data to numrical data\n",
        "    model_steps = Pipeline(steps = [('preprocesser', preprocesser),\n",
        "                                  ('model', model)])\n",
        "    clf = GridSearchCV(\n",
        "            estimator = model_steps, \n",
        "            param_grid = parameter, \n",
        "            cv = 10,\n",
        "            scoring='accuracy'\n",
        "        )\n",
        "\n",
        "    #clf.fit(x_train, y_train)\n",
        "    #! training on the whole dataset \n",
        "    clf.fit(x, y)\n",
        "\n",
        "    # save cross validation score\n",
        "    opt_res.append(clf.scorer_)\n",
        "    opt_alg_name.append(name)\n",
        "\n",
        "    # save the best estimator \n",
        "    joblib.dump(clf.best_estimator_, f'{path}/best_estimator_{name}.pkl')\n",
        "    print(clf.scorer_)\n",
        "\n",
        "    print(f\"Best parameters for {name}:\")\n",
        "    print(f'{clf.best_params_} \\n')\n",
        "    print(f'Grid scores on development set:')\n",
        "    #means = np.mean(clf.cv_results_['mean_test_score'])\n",
        "    #stds = np.std(clf.cv_results_['std_test_score'])\n",
        "    print(f'the higest accuracy rate cane be reached at {clf.best_score_} \\n' )"
      ]
    },
    {
      "source": [
        "## 2.3 Redo training process with best estimators"
      ],
      "cell_type": "markdown",
      "metadata": {}
    },
    {
      "cell_type": "code",
      "execution_count": 16,
      "metadata": {},
      "outputs": [
        {
          "output_type": "stream",
          "name": "stdout",
          "text": [
            "decision tree best estimator cross validation score: 0.7139+/-0.0526, min: 0.651, max: 0.8383\n"
          ]
        }
      ],
      "source": [
        "# redo model Decision Tree\n",
        "dt = DecisionTreeClassifier(criterion='entropy', \n",
        "                            random_state=42, \n",
        "                            max_depth = 5,\n",
        "                            max_features = 'auto',\n",
        "                            splitter = 'random',\n",
        "                            )\n",
        "\n",
        "# kfolds = 15\n",
        "# split = KFold(n_splits = kfolds, shuffle = True, random_state=42)\n",
        "\n",
        "model_steps = Pipeline(steps = [('preprocesser', preprocesser),\n",
        "                                  ('model', dt)])\n",
        "\n",
        "cv_result = cross_val_score(model_steps,\n",
        "                              x,y,\n",
        "                              cv = 10,\n",
        "                              scoring = 'accuracy')\n",
        "\n",
        "# minimum accuracy \n",
        "min_score = round(min(cv_result),4)\n",
        "# maximum accuracy \n",
        "max_score = round(max(cv_result),4)\n",
        "# average of accuracy \n",
        "mean_score = round(np.mean(cv_result),4)\n",
        "# standard diviation of accuracy \n",
        "std = round(np.std(cv_result),4)\n",
        "\n",
        "print(f'decision tree best estimator cross validation score: {mean_score}+/-{std}, min: {min_score}, max: {max_score}')\n",
        "                            "
      ]
    },
    {
      "cell_type": "code",
      "execution_count": 18,
      "metadata": {},
      "outputs": [
        {
          "output_type": "stream",
          "name": "stdout",
          "text": [
            "decision tree best estimator cross validation score: 0.5573+/-0.0913, min: 0.3929, max: 0.6619\n"
          ]
        }
      ],
      "source": [
        "# redo model Random Forest\n",
        "rf = RandomForestClassifier(random_state=42,\n",
        "                            criterion = 'gini',\n",
        "                            max_features = 'log2'\n",
        "                            )\n",
        "\n",
        "# kfolds = 15\n",
        "# split = KFold(n_splits = kfolds, shuffle = True, random_state=42)\n",
        "\n",
        "model_steps = Pipeline(steps = [('preprocesser', preprocesser),\n",
        "                                  ('model', rf)])\n",
        "\n",
        "cv_result = cross_val_score(model_steps,\n",
        "                              x,y,\n",
        "                              cv = 10,\n",
        "                              scoring = 'accuracy')\n",
        "\n",
        "# minimum accuracy \n",
        "min_score = round(min(cv_result),4)\n",
        "# maximum accuracy \n",
        "max_score = round(max(cv_result),4)\n",
        "# average of accuracy \n",
        "mean_score = round(np.mean(cv_result),4)\n",
        "# standard diviation of accuracy \n",
        "std = round(np.std(cv_result),4)\n",
        "\n",
        "print(f'decision tree best estimator cross validation score: {mean_score}+/-{std}, min: {min_score}, max: {max_score}')"
      ]
    }
  ]
}